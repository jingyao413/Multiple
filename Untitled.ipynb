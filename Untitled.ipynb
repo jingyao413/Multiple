{
 "cells": [
  {
   "cell_type": "code",
   "execution_count": 1,
   "metadata": {},
   "outputs": [
    {
     "name": "stdout",
     "output_type": "stream",
     "text": [
      "Requirement already up-to-date: deeplabcut in c:\\users\\jingyaozhang\\anaconda3\\envs\\dlc-cpu\\lib\\site-packages (2.1.8.1)\n",
      "Requirement already satisfied, skipping upgrade: click in c:\\users\\jingyaozhang\\anaconda3\\envs\\dlc-cpu\\lib\\site-packages (from deeplabcut) (7.1.2)\n",
      "Requirement already satisfied, skipping upgrade: tables in c:\\users\\jingyaozhang\\anaconda3\\envs\\dlc-cpu\\lib\\site-packages (from deeplabcut) (3.6.1)\n",
      "Requirement already satisfied, skipping upgrade: wheel in c:\\users\\jingyaozhang\\anaconda3\\envs\\dlc-cpu\\lib\\site-packages (from deeplabcut) (0.34.2)\n",
      "Requirement already satisfied, skipping upgrade: certifi in c:\\users\\jingyaozhang\\anaconda3\\envs\\dlc-cpu\\lib\\site-packages (from deeplabcut) (2020.4.5.1)\n",
      "Requirement already satisfied, skipping upgrade: matplotlib==3.0.3 in c:\\users\\jingyaozhang\\anaconda3\\envs\\dlc-cpu\\lib\\site-packages (from deeplabcut) (3.0.3)\n",
      "Requirement already satisfied, skipping upgrade: moviepy<=1.0.1 in c:\\users\\jingyaozhang\\anaconda3\\envs\\dlc-cpu\\lib\\site-packages (from deeplabcut) (1.0.1)\n",
      "Requirement already satisfied, skipping upgrade: ipython-genutils in c:\\users\\jingyaozhang\\anaconda3\\envs\\dlc-cpu\\lib\\site-packages (from deeplabcut) (0.2.0)\n",
      "Requirement already satisfied, skipping upgrade: python-dateutil in c:\\users\\jingyaozhang\\anaconda3\\envs\\dlc-cpu\\lib\\site-packages (from deeplabcut) (2.8.1)\n",
      "Requirement already satisfied, skipping upgrade: opencv-python~=3.4 in c:\\users\\jingyaozhang\\anaconda3\\envs\\dlc-cpu\\lib\\site-packages (from deeplabcut) (3.4.9.33)\n",
      "Requirement already satisfied, skipping upgrade: easydict in c:\\users\\jingyaozhang\\anaconda3\\envs\\dlc-cpu\\lib\\site-packages (from deeplabcut) (1.9)\n",
      "Requirement already satisfied, skipping upgrade: pandas>=1.0. in c:\\users\\jingyaozhang\\anaconda3\\envs\\dlc-cpu\\lib\\site-packages (from deeplabcut) (1.0.3)\n",
      "Requirement already satisfied, skipping upgrade: h5py~=2.7 in c:\\users\\jingyaozhang\\anaconda3\\envs\\dlc-cpu\\lib\\site-packages (from deeplabcut) (2.10.0)\n",
      "Requirement already satisfied, skipping upgrade: tensorpack>=0.9.7.1 in c:\\users\\jingyaozhang\\anaconda3\\envs\\dlc-cpu\\lib\\site-packages (from deeplabcut) (0.10.1)\n",
      "Requirement already satisfied, skipping upgrade: chardet in c:\\users\\jingyaozhang\\anaconda3\\envs\\dlc-cpu\\lib\\site-packages (from deeplabcut) (3.0.4)\n",
      "Requirement already satisfied, skipping upgrade: imgaug in c:\\users\\jingyaozhang\\anaconda3\\envs\\dlc-cpu\\lib\\site-packages (from deeplabcut) (0.4.0)\n",
      "Requirement already satisfied, skipping upgrade: intel-openmp in c:\\users\\jingyaozhang\\anaconda3\\envs\\dlc-cpu\\lib\\site-packages (from deeplabcut) (2019.0)\n",
      "Requirement already satisfied, skipping upgrade: numpy==1.16.4 in c:\\users\\jingyaozhang\\anaconda3\\envs\\dlc-cpu\\lib\\site-packages (from deeplabcut) (1.16.4)\n",
      "Requirement already satisfied, skipping upgrade: ipython in c:\\users\\jingyaozhang\\anaconda3\\envs\\dlc-cpu\\lib\\site-packages (from deeplabcut) (7.13.0)\n",
      "Requirement already satisfied, skipping upgrade: scikit-image in c:\\users\\jingyaozhang\\anaconda3\\envs\\dlc-cpu\\lib\\site-packages (from deeplabcut) (0.16.2)\n",
      "Requirement already satisfied, skipping upgrade: pyyaml>=5.1 in c:\\users\\jingyaozhang\\anaconda3\\envs\\dlc-cpu\\lib\\site-packages (from deeplabcut) (5.3.1)\n",
      "Requirement already satisfied, skipping upgrade: ruamel.yaml~=0.15 in c:\\users\\jingyaozhang\\anaconda3\\envs\\dlc-cpu\\lib\\site-packages (from deeplabcut) (0.16.10)\n",
      "Requirement already satisfied, skipping upgrade: setuptools in c:\\users\\jingyaozhang\\anaconda3\\envs\\dlc-cpu\\lib\\site-packages (from deeplabcut) (46.1.3.post20200330)\n",
      "Requirement already satisfied, skipping upgrade: scikit-learn in c:\\users\\jingyaozhang\\anaconda3\\envs\\dlc-cpu\\lib\\site-packages (from deeplabcut) (0.22.2.post1)\n",
      "Requirement already satisfied, skipping upgrade: six in c:\\users\\jingyaozhang\\anaconda3\\envs\\dlc-cpu\\lib\\site-packages (from deeplabcut) (1.14.0)\n",
      "Requirement already satisfied, skipping upgrade: tqdm in c:\\users\\jingyaozhang\\anaconda3\\envs\\dlc-cpu\\lib\\site-packages (from deeplabcut) (4.46.0)\n",
      "Requirement already satisfied, skipping upgrade: requests in c:\\users\\jingyaozhang\\anaconda3\\envs\\dlc-cpu\\lib\\site-packages (from deeplabcut) (2.23.0)\n",
      "Requirement already satisfied, skipping upgrade: statsmodels in c:\\users\\jingyaozhang\\anaconda3\\envs\\dlc-cpu\\lib\\site-packages (from deeplabcut) (0.11.1)\n",
      "Requirement already satisfied, skipping upgrade: scipy in c:\\users\\jingyaozhang\\anaconda3\\envs\\dlc-cpu\\lib\\site-packages (from deeplabcut) (1.4.1)\n",
      "Requirement already satisfied, skipping upgrade: patsy in c:\\users\\jingyaozhang\\anaconda3\\envs\\dlc-cpu\\lib\\site-packages (from deeplabcut) (0.5.1)\n",
      "Requirement already satisfied, skipping upgrade: numexpr>=2.6.2 in c:\\users\\jingyaozhang\\anaconda3\\envs\\dlc-cpu\\lib\\site-packages (from tables->deeplabcut) (2.7.1)\n",
      "Requirement already satisfied, skipping upgrade: pyparsing!=2.0.4,!=2.1.2,!=2.1.6,>=2.0.1 in c:\\users\\jingyaozhang\\anaconda3\\envs\\dlc-cpu\\lib\\site-packages (from matplotlib==3.0.3->deeplabcut) (2.4.7)\n",
      "Requirement already satisfied, skipping upgrade: kiwisolver>=1.0.1 in c:\\users\\jingyaozhang\\anaconda3\\envs\\dlc-cpu\\lib\\site-packages (from matplotlib==3.0.3->deeplabcut) (1.2.0)\n",
      "Requirement already satisfied, skipping upgrade: cycler>=0.10 in c:\\users\\jingyaozhang\\anaconda3\\envs\\dlc-cpu\\lib\\site-packages (from matplotlib==3.0.3->deeplabcut) (0.10.0)\n",
      "Requirement already satisfied, skipping upgrade: imageio-ffmpeg>=0.2.0; python_version >= \"3.4\" in c:\\users\\jingyaozhang\\anaconda3\\envs\\dlc-cpu\\lib\\site-packages (from moviepy<=1.0.1->deeplabcut) (0.4.1)\n",
      "Requirement already satisfied, skipping upgrade: decorator<5.0,>=4.0.2 in c:\\users\\jingyaozhang\\anaconda3\\envs\\dlc-cpu\\lib\\site-packages (from moviepy<=1.0.1->deeplabcut) (4.4.2)\n",
      "Requirement already satisfied, skipping upgrade: proglog<=1.0.0 in c:\\users\\jingyaozhang\\anaconda3\\envs\\dlc-cpu\\lib\\site-packages (from moviepy<=1.0.1->deeplabcut) (0.1.9)\n",
      "Requirement already satisfied, skipping upgrade: imageio<3.0,>=2.5; python_version >= \"3.4\" in c:\\users\\jingyaozhang\\anaconda3\\envs\\dlc-cpu\\lib\\site-packages (from moviepy<=1.0.1->deeplabcut) (2.8.0)\n",
      "Requirement already satisfied, skipping upgrade: pytz>=2017.2 in c:\\users\\jingyaozhang\\anaconda3\\envs\\dlc-cpu\\lib\\site-packages (from pandas>=1.0.->deeplabcut) (2020.1)\n",
      "Requirement already satisfied, skipping upgrade: pyzmq>=16 in c:\\users\\jingyaozhang\\anaconda3\\envs\\dlc-cpu\\lib\\site-packages (from tensorpack>=0.9.7.1->deeplabcut) (18.1.1)\n",
      "Requirement already satisfied, skipping upgrade: psutil>=5 in c:\\users\\jingyaozhang\\anaconda3\\envs\\dlc-cpu\\lib\\site-packages (from tensorpack>=0.9.7.1->deeplabcut) (5.7.0)\n",
      "Requirement already satisfied, skipping upgrade: msgpack>=0.5.2 in c:\\users\\jingyaozhang\\anaconda3\\envs\\dlc-cpu\\lib\\site-packages (from tensorpack>=0.9.7.1->deeplabcut) (1.0.0)\n",
      "Requirement already satisfied, skipping upgrade: tabulate>=0.7.7 in c:\\users\\jingyaozhang\\anaconda3\\envs\\dlc-cpu\\lib\\site-packages (from tensorpack>=0.9.7.1->deeplabcut) (0.8.7)\n",
      "Requirement already satisfied, skipping upgrade: msgpack-numpy>=0.4.4.2 in c:\\users\\jingyaozhang\\anaconda3\\envs\\dlc-cpu\\lib\\site-packages (from tensorpack>=0.9.7.1->deeplabcut) (0.4.5)\n",
      "Requirement already satisfied, skipping upgrade: termcolor>=1.1 in c:\\users\\jingyaozhang\\anaconda3\\envs\\dlc-cpu\\lib\\site-packages (from tensorpack>=0.9.7.1->deeplabcut) (1.1.0)\n",
      "Requirement already satisfied, skipping upgrade: Shapely in c:\\users\\jingyaozhang\\anaconda3\\envs\\dlc-cpu\\lib\\site-packages (from imgaug->deeplabcut) (1.7.0)\n",
      "Requirement already satisfied, skipping upgrade: Pillow in c:\\users\\jingyaozhang\\anaconda3\\envs\\dlc-cpu\\lib\\site-packages (from imgaug->deeplabcut) (7.1.2)\n",
      "Requirement already satisfied, skipping upgrade: jedi>=0.10 in c:\\users\\jingyaozhang\\anaconda3\\envs\\dlc-cpu\\lib\\site-packages (from ipython->deeplabcut) (0.17.0)\n",
      "Requirement already satisfied, skipping upgrade: colorama; sys_platform == \"win32\" in c:\\users\\jingyaozhang\\anaconda3\\envs\\dlc-cpu\\lib\\site-packages (from ipython->deeplabcut) (0.4.3)\n",
      "Requirement already satisfied, skipping upgrade: pygments in c:\\users\\jingyaozhang\\anaconda3\\envs\\dlc-cpu\\lib\\site-packages (from ipython->deeplabcut) (2.6.1)\n",
      "Requirement already satisfied, skipping upgrade: backcall in c:\\users\\jingyaozhang\\anaconda3\\envs\\dlc-cpu\\lib\\site-packages (from ipython->deeplabcut) (0.1.0)\n",
      "Requirement already satisfied, skipping upgrade: traitlets>=4.2 in c:\\users\\jingyaozhang\\anaconda3\\envs\\dlc-cpu\\lib\\site-packages (from ipython->deeplabcut) (4.3.3)\n",
      "Requirement already satisfied, skipping upgrade: pickleshare in c:\\users\\jingyaozhang\\anaconda3\\envs\\dlc-cpu\\lib\\site-packages (from ipython->deeplabcut) (0.7.5)\n",
      "Requirement already satisfied, skipping upgrade: prompt-toolkit!=3.0.0,!=3.0.1,<3.1.0,>=2.0.0 in c:\\users\\jingyaozhang\\anaconda3\\envs\\dlc-cpu\\lib\\site-packages (from ipython->deeplabcut) (3.0.4)\n",
      "Requirement already satisfied, skipping upgrade: networkx>=2.0 in c:\\users\\jingyaozhang\\anaconda3\\envs\\dlc-cpu\\lib\\site-packages (from scikit-image->deeplabcut) (2.4)\n",
      "Requirement already satisfied, skipping upgrade: PyWavelets>=0.4.0 in c:\\users\\jingyaozhang\\anaconda3\\envs\\dlc-cpu\\lib\\site-packages (from scikit-image->deeplabcut) (1.1.1)\n",
      "Requirement already satisfied, skipping upgrade: ruamel.yaml.clib>=0.1.2; platform_python_implementation == \"CPython\" and python_version < \"3.9\" in c:\\users\\jingyaozhang\\anaconda3\\envs\\dlc-cpu\\lib\\site-packages (from ruamel.yaml~=0.15->deeplabcut) (0.2.0)\n",
      "Requirement already satisfied, skipping upgrade: joblib>=0.11 in c:\\users\\jingyaozhang\\anaconda3\\envs\\dlc-cpu\\lib\\site-packages (from scikit-learn->deeplabcut) (0.14.1)\n",
      "Requirement already satisfied, skipping upgrade: urllib3!=1.25.0,!=1.25.1,<1.26,>=1.21.1 in c:\\users\\jingyaozhang\\anaconda3\\envs\\dlc-cpu\\lib\\site-packages (from requests->deeplabcut) (1.25.9)\n",
      "Requirement already satisfied, skipping upgrade: idna<3,>=2.5 in c:\\users\\jingyaozhang\\anaconda3\\envs\\dlc-cpu\\lib\\site-packages (from requests->deeplabcut) (2.9)\n",
      "Requirement already satisfied, skipping upgrade: parso>=0.7.0 in c:\\users\\jingyaozhang\\anaconda3\\envs\\dlc-cpu\\lib\\site-packages (from jedi>=0.10->ipython->deeplabcut) (0.7.0)\n",
      "Requirement already satisfied, skipping upgrade: wcwidth in c:\\users\\jingyaozhang\\anaconda3\\envs\\dlc-cpu\\lib\\site-packages (from prompt-toolkit!=3.0.0,!=3.0.1,<3.1.0,>=2.0.0->ipython->deeplabcut) (0.1.9)\n",
      "Note: you may need to restart the kernel to use updated packages.\n"
     ]
    }
   ],
   "source": [
    "pip install --upgrade deeplabcut"
   ]
  },
  {
   "cell_type": "code",
   "execution_count": 2,
   "metadata": {},
   "outputs": [],
   "source": [
    "import deeplabcut"
   ]
  },
  {
   "cell_type": "code",
   "execution_count": null,
   "metadata": {},
   "outputs": [
    {
     "name": "stdout",
     "output_type": "stream",
     "text": [
      "Created \"C:\\Users\\JingyaoZhang\\Desktop\\Multiple_Videos\\Multiple_videos_test-zjy-2020-05-18\\videos\"\n",
      "Created \"C:\\Users\\JingyaoZhang\\Desktop\\Multiple_Videos\\Multiple_videos_test-zjy-2020-05-18\\labeled-data\"\n",
      "Created \"C:\\Users\\JingyaoZhang\\Desktop\\Multiple_Videos\\Multiple_videos_test-zjy-2020-05-18\\training-datasets\"\n",
      "Created \"C:\\Users\\JingyaoZhang\\Desktop\\Multiple_Videos\\Multiple_videos_test-zjy-2020-05-18\\dlc-models\"\n",
      "Attempting to create a symbolic link of the video ...\n",
      "Created the symlink of C:\\Users\\JingyaoZhang\\Desktop\\Multiple_Videos\\Videos\\20110325-1138-j44.avi to C:\\Users\\JingyaoZhang\\Desktop\\Multiple_Videos\\Multiple_videos_test-zjy-2020-05-18\\videos\\20110325-1138-j44.avi\n",
      "Created the symlink of C:\\Users\\JingyaoZhang\\Desktop\\Multiple_Videos\\Videos\\20110325-1154-j44.avi to C:\\Users\\JingyaoZhang\\Desktop\\Multiple_Videos\\Multiple_videos_test-zjy-2020-05-18\\videos\\20110325-1154-j44.avi\n",
      "Created the symlink of C:\\Users\\JingyaoZhang\\Desktop\\Multiple_Videos\\Videos\\20110325-1157-j44.avi to C:\\Users\\JingyaoZhang\\Desktop\\Multiple_Videos\\Multiple_videos_test-zjy-2020-05-18\\videos\\20110325-1157-j44.avi\n",
      "Created the symlink of C:\\Users\\JingyaoZhang\\Desktop\\Multiple_Videos\\Videos\\20110325-1200-j44.avi to C:\\Users\\JingyaoZhang\\Desktop\\Multiple_Videos\\Multiple_videos_test-zjy-2020-05-18\\videos\\20110325-1200-j44.avi\n",
      "C:\\Users\\JingyaoZhang\\Desktop\\Multiple_Videos\\Multiple_videos_test-zjy-2020-05-18\\videos\\20110325-1138-j44.avi\n",
      "C:\\Users\\JingyaoZhang\\Desktop\\Multiple_Videos\\Multiple_videos_test-zjy-2020-05-18\\videos\\20110325-1154-j44.avi\n",
      "C:\\Users\\JingyaoZhang\\Desktop\\Multiple_Videos\\Multiple_videos_test-zjy-2020-05-18\\videos\\20110325-1157-j44.avi\n",
      "C:\\Users\\JingyaoZhang\\Desktop\\Multiple_Videos\\Multiple_videos_test-zjy-2020-05-18\\videos\\20110325-1200-j44.avi\n",
      "Generated \"C:\\Users\\JingyaoZhang\\Desktop\\Multiple_Videos\\Multiple_videos_test-zjy-2020-05-18\\config.yaml\"\n",
      "\n",
      "A new project with name Multiple_videos_test-zjy-2020-05-18 is created at C:\\Users\\JingyaoZhang\\Desktop\\Multiple_Videos and a configurable file (config.yaml) is stored there. Change the parameters in this file to adapt to your project's needs.\n",
      " Once you have changed the configuration file, use the function 'extract_frames' to select frames for labeling.\n",
      ". [OPTIONAL] Use the function 'add_new_videos' to add new videos to your project (at any stage).\n"
     ]
    },
    {
     "name": "stderr",
     "output_type": "stream",
     "text": [
      "19it [00:00, 187.24it/s]"
     ]
    },
    {
     "name": "stdout",
     "output_type": "stream",
     "text": [
      "Config file read successfully.\n",
      "Extracting frames based on kmeans ...\n",
      "Kmeans-quantization based extracting of frames from 0.0  seconds to 7.37  seconds.\n",
      "Extracting and downsampling... 221  frames from the video.\n"
     ]
    },
    {
     "name": "stderr",
     "output_type": "stream",
     "text": [
      "221it [00:01, 210.48it/s]\n"
     ]
    },
    {
     "name": "stdout",
     "output_type": "stream",
     "text": [
      "Kmeans clustering ... (this might take a while)\n"
     ]
    },
    {
     "name": "stderr",
     "output_type": "stream",
     "text": [
      "21it [00:00, 208.47it/s]"
     ]
    },
    {
     "name": "stdout",
     "output_type": "stream",
     "text": [
      "Extracting frames based on kmeans ...\n",
      "Kmeans-quantization based extracting of frames from 0.0  seconds to 15.07  seconds.\n",
      "Extracting and downsampling... 452  frames from the video.\n"
     ]
    },
    {
     "name": "stderr",
     "output_type": "stream",
     "text": [
      "452it [00:02, 208.93it/s]\n"
     ]
    },
    {
     "name": "stdout",
     "output_type": "stream",
     "text": [
      "Kmeans clustering ... (this might take a while)\n"
     ]
    },
    {
     "name": "stderr",
     "output_type": "stream",
     "text": [
      "42it [00:00, 207.99it/s]"
     ]
    },
    {
     "name": "stdout",
     "output_type": "stream",
     "text": [
      "Extracting frames based on kmeans ...\n",
      "Kmeans-quantization based extracting of frames from 0.0  seconds to 5.2  seconds.\n",
      "Extracting and downsampling... 156  frames from the video.\n"
     ]
    },
    {
     "name": "stderr",
     "output_type": "stream",
     "text": [
      "156it [00:00, 193.01it/s]\n"
     ]
    },
    {
     "name": "stdout",
     "output_type": "stream",
     "text": [
      "Kmeans clustering ... (this might take a while)\n"
     ]
    },
    {
     "name": "stderr",
     "output_type": "stream",
     "text": [
      "21it [00:00, 204.43it/s]"
     ]
    },
    {
     "name": "stdout",
     "output_type": "stream",
     "text": [
      "Extracting frames based on kmeans ...\n",
      "Kmeans-quantization based extracting of frames from 0.0  seconds to 3.9  seconds.\n",
      "Extracting and downsampling... 117  frames from the video.\n"
     ]
    },
    {
     "name": "stderr",
     "output_type": "stream",
     "text": [
      "117it [00:00, 207.63it/s]\n"
     ]
    },
    {
     "name": "stdout",
     "output_type": "stream",
     "text": [
      "Kmeans clustering ... (this might take a while)\n",
      "Frames were successfully extracted.\n",
      "\n",
      "You can now label the frames using the function 'label_frames' (if you extracted enough frames for all videos).\n",
      "You can now check the labels, using 'check_labels' before proceeding. Then, you can use the function 'create_training_dataset' to create the training dataset.\n",
      "The training dataset is successfully created. Use the function 'train_network' to start training. Happy training!\n"
     ]
    }
   ],
   "source": [
    "deeplabcut.launch_dlc()"
   ]
  }
 ],
 "metadata": {
  "kernelspec": {
   "display_name": "Python [conda env:DLC-CPU] *",
   "language": "python",
   "name": "conda-env-DLC-CPU-py"
  },
  "language_info": {
   "codemirror_mode": {
    "name": "ipython",
    "version": 3
   },
   "file_extension": ".py",
   "mimetype": "text/x-python",
   "name": "python",
   "nbconvert_exporter": "python",
   "pygments_lexer": "ipython3",
   "version": "3.7.7"
  }
 },
 "nbformat": 4,
 "nbformat_minor": 4
}
